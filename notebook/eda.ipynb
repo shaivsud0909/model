{
 "cells": [
  {
   "cell_type": "markdown",
   "id": "7472f61c",
   "metadata": {},
   "source": [
    "EDA"
   ]
  },
  {
   "cell_type": "code",
   "execution_count": 17,
   "id": "23b2330a",
   "metadata": {},
   "outputs": [
    {
     "name": "stdout",
     "output_type": "stream",
     "text": [
      "python\n"
     ]
    }
   ],
   "source": [
    "print(\"python\")\n"
   ]
  },
  {
   "cell_type": "markdown",
   "id": "998c4cad",
   "metadata": {},
   "source": [
    "Reading CSV file"
   ]
  },
  {
   "cell_type": "code",
   "execution_count": 18,
   "id": "eaa57f26",
   "metadata": {},
   "outputs": [
    {
     "data": {
      "text/html": [
       "<div>\n",
       "<style scoped>\n",
       "    .dataframe tbody tr th:only-of-type {\n",
       "        vertical-align: middle;\n",
       "    }\n",
       "\n",
       "    .dataframe tbody tr th {\n",
       "        vertical-align: top;\n",
       "    }\n",
       "\n",
       "    .dataframe thead th {\n",
       "        text-align: right;\n",
       "    }\n",
       "</style>\n",
       "<table border=\"1\" class=\"dataframe\">\n",
       "  <thead>\n",
       "    <tr style=\"text-align: right;\">\n",
       "      <th></th>\n",
       "      <th>Date</th>\n",
       "      <th>Store ID</th>\n",
       "      <th>Product ID</th>\n",
       "      <th>Category</th>\n",
       "      <th>Region</th>\n",
       "      <th>Inventory Level</th>\n",
       "      <th>Units Sold</th>\n",
       "      <th>Units Ordered</th>\n",
       "      <th>Demand Forecast</th>\n",
       "      <th>Price</th>\n",
       "      <th>Discount</th>\n",
       "      <th>Weather Condition</th>\n",
       "      <th>Holiday/Promotion</th>\n",
       "      <th>Competitor Pricing</th>\n",
       "      <th>Seasonality</th>\n",
       "    </tr>\n",
       "  </thead>\n",
       "  <tbody>\n",
       "    <tr>\n",
       "      <th>0</th>\n",
       "      <td>2022-01-01</td>\n",
       "      <td>S001</td>\n",
       "      <td>P0001</td>\n",
       "      <td>Groceries</td>\n",
       "      <td>North</td>\n",
       "      <td>231</td>\n",
       "      <td>127</td>\n",
       "      <td>55</td>\n",
       "      <td>135.47</td>\n",
       "      <td>33.50</td>\n",
       "      <td>20</td>\n",
       "      <td>Rainy</td>\n",
       "      <td>0</td>\n",
       "      <td>29.69</td>\n",
       "      <td>Autumn</td>\n",
       "    </tr>\n",
       "    <tr>\n",
       "      <th>1</th>\n",
       "      <td>2022-01-01</td>\n",
       "      <td>S001</td>\n",
       "      <td>P0002</td>\n",
       "      <td>Toys</td>\n",
       "      <td>South</td>\n",
       "      <td>204</td>\n",
       "      <td>150</td>\n",
       "      <td>66</td>\n",
       "      <td>144.04</td>\n",
       "      <td>63.01</td>\n",
       "      <td>20</td>\n",
       "      <td>Sunny</td>\n",
       "      <td>0</td>\n",
       "      <td>66.16</td>\n",
       "      <td>Autumn</td>\n",
       "    </tr>\n",
       "    <tr>\n",
       "      <th>2</th>\n",
       "      <td>2022-01-01</td>\n",
       "      <td>S001</td>\n",
       "      <td>P0003</td>\n",
       "      <td>Toys</td>\n",
       "      <td>West</td>\n",
       "      <td>102</td>\n",
       "      <td>65</td>\n",
       "      <td>51</td>\n",
       "      <td>74.02</td>\n",
       "      <td>27.99</td>\n",
       "      <td>10</td>\n",
       "      <td>Sunny</td>\n",
       "      <td>1</td>\n",
       "      <td>31.32</td>\n",
       "      <td>Summer</td>\n",
       "    </tr>\n",
       "    <tr>\n",
       "      <th>3</th>\n",
       "      <td>2022-01-01</td>\n",
       "      <td>S001</td>\n",
       "      <td>P0004</td>\n",
       "      <td>Toys</td>\n",
       "      <td>North</td>\n",
       "      <td>469</td>\n",
       "      <td>61</td>\n",
       "      <td>164</td>\n",
       "      <td>62.18</td>\n",
       "      <td>32.72</td>\n",
       "      <td>10</td>\n",
       "      <td>Cloudy</td>\n",
       "      <td>1</td>\n",
       "      <td>34.74</td>\n",
       "      <td>Autumn</td>\n",
       "    </tr>\n",
       "    <tr>\n",
       "      <th>4</th>\n",
       "      <td>2022-01-01</td>\n",
       "      <td>S001</td>\n",
       "      <td>P0005</td>\n",
       "      <td>Electronics</td>\n",
       "      <td>East</td>\n",
       "      <td>166</td>\n",
       "      <td>14</td>\n",
       "      <td>135</td>\n",
       "      <td>9.26</td>\n",
       "      <td>73.64</td>\n",
       "      <td>0</td>\n",
       "      <td>Sunny</td>\n",
       "      <td>0</td>\n",
       "      <td>68.95</td>\n",
       "      <td>Summer</td>\n",
       "    </tr>\n",
       "  </tbody>\n",
       "</table>\n",
       "</div>"
      ],
      "text/plain": [
       "         Date Store ID  ... Competitor Pricing Seasonality\n",
       "0  2022-01-01     S001  ...              29.69      Autumn\n",
       "1  2022-01-01     S001  ...              66.16      Autumn\n",
       "2  2022-01-01     S001  ...              31.32      Summer\n",
       "3  2022-01-01     S001  ...              34.74      Autumn\n",
       "4  2022-01-01     S001  ...              68.95      Summer\n",
       "\n",
       "[5 rows x 15 columns]"
      ]
     },
     "execution_count": 18,
     "metadata": {},
     "output_type": "execute_result"
    }
   ],
   "source": [
    "import pandas as pd\n",
    "df=pd.read_csv(\"retail_store_inventory.csv\")\n",
    "df.head()"
   ]
  },
  {
   "cell_type": "markdown",
   "id": "9d21ca84",
   "metadata": {},
   "source": [
    "Checking for null value"
   ]
  },
  {
   "cell_type": "code",
   "execution_count": 19,
   "id": "be375ff9",
   "metadata": {},
   "outputs": [
    {
     "name": "stdout",
     "output_type": "stream",
     "text": [
      "False\n"
     ]
    }
   ],
   "source": [
    "print(df.isnull().values.any())"
   ]
  },
  {
   "cell_type": "markdown",
   "id": "ebc179ee",
   "metadata": {},
   "source": [
    "creating  week days"
   ]
  },
  {
   "cell_type": "code",
   "execution_count": 20,
   "id": "aa6bca7d",
   "metadata": {},
   "outputs": [],
   "source": [
    "df['Date'] = pd.to_datetime(df['Date'])\n",
    "df['DayOfWeek'] = df['Date'].dt.dayofweek\n",
    "df.drop('Date', axis=1, inplace=True)"
   ]
  },
  {
   "cell_type": "markdown",
   "id": "afeaa0d3",
   "metadata": {},
   "source": [
    "drop irrelevant column"
   ]
  },
  {
   "cell_type": "code",
   "execution_count": 21,
   "id": "10e4b2b8",
   "metadata": {},
   "outputs": [],
   "source": [
    "df.drop('Store ID', axis=1, inplace=True)\n",
    "df.drop('Product ID', axis=1, inplace=True)"
   ]
  },
  {
   "cell_type": "markdown",
   "id": "3a032a62",
   "metadata": {},
   "source": [
    "checking unique columns"
   ]
  },
  {
   "cell_type": "code",
   "execution_count": 22,
   "id": "c0b9a58b",
   "metadata": {},
   "outputs": [
    {
     "data": {
      "text/plain": [
       "5"
      ]
     },
     "execution_count": 22,
     "metadata": {},
     "output_type": "execute_result"
    }
   ],
   "source": [
    "total_unique = df['Category'].nunique()\n",
    "total_unique"
   ]
  },
  {
   "cell_type": "markdown",
   "id": "942155e0",
   "metadata": {},
   "source": [
    "boxplot for visualize the outliars\n",
    "\n"
   ]
  },
  {
   "cell_type": "code",
   "execution_count": 23,
   "id": "62148d64",
   "metadata": {},
   "outputs": [
    {
     "data": {
      "text/plain": [
       "{'whiskers': [<matplotlib.lines.Line2D at 0x171d4a070>,\n",
       "  <matplotlib.lines.Line2D at 0x171d4a310>],\n",
       " 'caps': [<matplotlib.lines.Line2D at 0x171d4a5b0>,\n",
       "  <matplotlib.lines.Line2D at 0x171d4a850>],\n",
       " 'boxes': [<matplotlib.lines.Line2D at 0x171d3ad90>],\n",
       " 'medians': [<matplotlib.lines.Line2D at 0x171d4aaf0>],\n",
       " 'fliers': [<matplotlib.lines.Line2D at 0x171d4ad90>],\n",
       " 'means': []}"
      ]
     },
     "execution_count": 23,
     "metadata": {},
     "output_type": "execute_result"
    },
    {
     "data": {
      "image/png": "[encoded data removed]",
      "text/plain": [
       "<Figure size 640x480 with 1 Axes>"
      ]
     },
     "metadata": {},
     "output_type": "display_data"
    }
   ],
   "source": [
    "import matplotlib.pyplot as plt\n",
    "plt.boxplot(df['Demand Forecast'])"
   ]
  },
  {
   "cell_type": "markdown",
   "id": "4a7fe8bf",
   "metadata": {},
   "source": [
    "checking no of outliars"
   ]
  },
  {
   "cell_type": "code",
   "execution_count": 24,
   "id": "f5b2f134",
   "metadata": {},
   "outputs": [
    {
     "name": "stdout",
     "output_type": "stream",
     "text": [
      "no of outliers: 732\n"
     ]
    }
   ],
   "source": [
    "q1=df['Demand Forecast'].quantile(0.25)\n",
    "q3=df['Demand Forecast'].quantile(0.75)\n",
    "iqr=q3-q1\n",
    "upper=q3+1.5*iqr\n",
    "lower=q1-1.5*iqr\n",
    "counter=0\n",
    "for i in range(len(df['Demand Forecast'])):\n",
    "    if df['Demand Forecast'][i]>upper or df['Demand Forecast'][i]<lower:\n",
    "        counter+=1\n",
    "\n",
    "print(\"no of outliers:\", counter)\n"
   ]
  },
  {
   "cell_type": "markdown",
   "id": "fa1e7842",
   "metadata": {},
   "source": [
    "percentage of  outliars"
   ]
  },
  {
   "cell_type": "code",
   "execution_count": 25,
   "id": "cab8ecc5",
   "metadata": {},
   "outputs": [
    {
     "data": {
      "text/plain": [
       "1.0013679890560876"
      ]
     },
     "execution_count": 25,
     "metadata": {},
     "output_type": "execute_result"
    }
   ],
   "source": [
    "(counter/len(df))*100"
   ]
  },
  {
   "cell_type": "markdown",
   "id": "74408226",
   "metadata": {},
   "source": [
    "removing 732 outliars"
   ]
  },
  {
   "cell_type": "code",
   "execution_count": 26,
   "id": "f5f53454",
   "metadata": {},
   "outputs": [
    {
     "name": "stdout",
     "output_type": "stream",
     "text": [
      "732\n"
     ]
    }
   ],
   "source": [
    "dfc = df[(df['Demand Forecast'] >= lower) & (df['Demand Forecast'] <= upper)]\n",
    "\n",
    "print(len(df) - len(dfc))"
   ]
  },
  {
   "cell_type": "markdown",
   "id": "1f3a7ee8",
   "metadata": {},
   "source": [
    "one hot encoding on categorial columns\n"
   ]
  },
  {
   "cell_type": "code",
   "execution_count": 27,
   "id": "9e69e8a0",
   "metadata": {},
   "outputs": [],
   "source": [
    "x= pd.get_dummies(dfc.drop(\"Demand Forecast\", axis=1), drop_first=True)"
   ]
  },
  {
   "cell_type": "markdown",
   "id": "c24f7260",
   "metadata": {},
   "source": [
    "target value"
   ]
  },
  {
   "cell_type": "code",
   "execution_count": 28,
   "id": "8a2cfabc",
   "metadata": {},
   "outputs": [],
   "source": [
    "y = dfc[\"Demand Forecast\"]"
   ]
  },
  {
   "cell_type": "markdown",
   "id": "83baf940",
   "metadata": {},
   "source": [
    "splitting"
   ]
  },
  {
   "cell_type": "code",
   "execution_count": 29,
   "id": "862027b1",
   "metadata": {},
   "outputs": [],
   "source": [
    "from sklearn.model_selection import train_test_split\n",
    "x_train, x_test, y_train, y_test = train_test_split(x, y, test_size=0.2, random_state=42)"
   ]
  },
  {
   "cell_type": "markdown",
   "id": "44b05424",
   "metadata": {},
   "source": [
    "Training"
   ]
  },
  {
   "cell_type": "markdown",
   "id": "ad704791",
   "metadata": {},
   "source": [
    "training"
   ]
  },
  {
   "cell_type": "code",
   "execution_count": 30,
   "id": "a1597e0c",
   "metadata": {},
   "outputs": [],
   "source": [
    "from sklearn.ensemble import RandomForestRegressor\n",
    "model = RandomForestRegressor(n_estimators=100, random_state=42)\n",
    "model.fit(x_train, y_train)\n",
    "y_pred = model.predict(x_test)"
   ]
  },
  {
   "cell_type": "markdown",
   "id": "aa80dde6",
   "metadata": {},
   "source": [
    "evaluation\n"
   ]
  },
  {
   "cell_type": "code",
   "execution_count": 31,
   "id": "e8fff301",
   "metadata": {},
   "outputs": [
    {
     "name": "stdout",
     "output_type": "stream",
     "text": [
      "MAE: 7.615829639353324\n",
      "MSE: 78.74824923951361\n",
      "R2 Score: 0.9927210320966039\n"
     ]
    }
   ],
   "source": [
    "from sklearn.metrics import mean_absolute_error, mean_squared_error, r2_score\n",
    "print(\"MAE:\", mean_absolute_error(y_test, y_pred))\n",
    "print(\"MSE:\", mean_squared_error(y_test, y_pred))\n",
    "print(\"R2 Score:\", r2_score(y_test, y_pred))"
   ]
  },
  {
   "cell_type": "markdown",
   "id": "670d8154",
   "metadata": {},
   "source": [
    "cross validation\n",
    "\n"
   ]
  },
  {
   "cell_type": "code",
   "execution_count": 32,
   "id": "62aa778a",
   "metadata": {},
   "outputs": [
    {
     "name": "stdout",
     "output_type": "stream",
     "text": [
      "R2 Scores for each fold: [0.99271593 0.9927571  0.99299941 0.99283641 0.99275904]\n",
      "Average R2 across folds: 0.9928135804015694\n"
     ]
    }
   ],
   "source": [
    "from sklearn.model_selection import KFold, cross_val_score\n",
    "\n",
    "# Cross-validation check\n",
    "kf = KFold(n_splits=5, shuffle=True, random_state=42)\n",
    "\n",
    "cv_scores = cross_val_score(model, x, y, cv=kf, scoring='r2')\n",
    "\n",
    "print(\"R2 Scores for each fold:\", cv_scores)\n",
    "print(\"Average R2 across folds:\", cv_scores.mean())\n"
   ]
  }
 ],
 "metadata": {
  "kernelspec": {
   "display_name": "Python 3",
   "language": "python",
   "name": "python3"
  },
  "language_info": {
   "codemirror_mode": {
    "name": "ipython",
    "version": 3
   },
   "file_extension": ".py",
   "mimetype": "text/x-python",
   "name": "python",
   "nbconvert_exporter": "python",
   "pygments_lexer": "ipython3",
   "version": "3.9.6"
  }
 },
 "nbformat": 4,
 "nbformat_minor": 5
}
